{
 "cells": [
  {
   "cell_type": "markdown",
   "metadata": {
    "slideshow": {
     "slide_type": "slide"
    }
   },
   "source": [
    "# Ford GoBike System Data\n",
    "## by Mohamed Galloul\n"
   ]
  },
  {
   "cell_type": "markdown",
   "metadata": {
    "slideshow": {
     "slide_type": "slide"
    }
   },
   "source": [
    "## Dataset Description\n",
    "\n",
    "> This data set includes information about individual rides made in a bike-sharing system covering the greater San Francisco Bay area. [source](https://www.bikeshare.com/data/) "
   ]
  },
  {
   "cell_type": "code",
   "execution_count": 1,
   "metadata": {
    "slideshow": {
     "slide_type": "skip"
    }
   },
   "outputs": [],
   "source": [
    "# import all packages and set plots to be embedded inline\n",
    "import numpy as np\n",
    "import pandas as pd\n",
    "import matplotlib.pyplot as plt\n",
    "import seaborn as sb\n",
    "\n",
    "%matplotlib inline"
   ]
  },
  {
   "cell_type": "markdown",
   "metadata": {
    "slideshow": {
     "slide_type": "skip"
    }
   },
   "source": [
    "### Loading Data"
   ]
  },
  {
   "cell_type": "code",
   "execution_count": 2,
   "metadata": {
    "slideshow": {
     "slide_type": "skip"
    }
   },
   "outputs": [
    {
     "data": {
      "text/html": [
       "<div>\n",
       "<style scoped>\n",
       "    .dataframe tbody tr th:only-of-type {\n",
       "        vertical-align: middle;\n",
       "    }\n",
       "\n",
       "    .dataframe tbody tr th {\n",
       "        vertical-align: top;\n",
       "    }\n",
       "\n",
       "    .dataframe thead th {\n",
       "        text-align: right;\n",
       "    }\n",
       "</style>\n",
       "<table border=\"1\" class=\"dataframe\">\n",
       "  <thead>\n",
       "    <tr style=\"text-align: right;\">\n",
       "      <th></th>\n",
       "      <th>duration_sec</th>\n",
       "      <th>start_time</th>\n",
       "      <th>end_time</th>\n",
       "      <th>start_station_id</th>\n",
       "      <th>start_station_name</th>\n",
       "      <th>start_station_latitude</th>\n",
       "      <th>start_station_longitude</th>\n",
       "      <th>end_station_id</th>\n",
       "      <th>end_station_name</th>\n",
       "      <th>end_station_latitude</th>\n",
       "      <th>end_station_longitude</th>\n",
       "      <th>bike_id</th>\n",
       "      <th>user_type</th>\n",
       "      <th>member_birth_year</th>\n",
       "      <th>member_gender</th>\n",
       "      <th>bike_share_for_all_trip</th>\n",
       "    </tr>\n",
       "  </thead>\n",
       "  <tbody>\n",
       "    <tr>\n",
       "      <th>0</th>\n",
       "      <td>52185</td>\n",
       "      <td>2019-02-28 17:32:10.1450</td>\n",
       "      <td>2019-03-01 08:01:55.9750</td>\n",
       "      <td>21.0</td>\n",
       "      <td>Montgomery St BART Station (Market St at 2nd St)</td>\n",
       "      <td>37.789625</td>\n",
       "      <td>-122.400811</td>\n",
       "      <td>13.0</td>\n",
       "      <td>Commercial St at Montgomery St</td>\n",
       "      <td>37.794231</td>\n",
       "      <td>-122.402923</td>\n",
       "      <td>4902</td>\n",
       "      <td>Customer</td>\n",
       "      <td>1984.0</td>\n",
       "      <td>Male</td>\n",
       "      <td>No</td>\n",
       "    </tr>\n",
       "    <tr>\n",
       "      <th>1</th>\n",
       "      <td>42521</td>\n",
       "      <td>2019-02-28 18:53:21.7890</td>\n",
       "      <td>2019-03-01 06:42:03.0560</td>\n",
       "      <td>23.0</td>\n",
       "      <td>The Embarcadero at Steuart St</td>\n",
       "      <td>37.791464</td>\n",
       "      <td>-122.391034</td>\n",
       "      <td>81.0</td>\n",
       "      <td>Berry St at 4th St</td>\n",
       "      <td>37.775880</td>\n",
       "      <td>-122.393170</td>\n",
       "      <td>2535</td>\n",
       "      <td>Customer</td>\n",
       "      <td>NaN</td>\n",
       "      <td>NaN</td>\n",
       "      <td>No</td>\n",
       "    </tr>\n",
       "    <tr>\n",
       "      <th>2</th>\n",
       "      <td>61854</td>\n",
       "      <td>2019-02-28 12:13:13.2180</td>\n",
       "      <td>2019-03-01 05:24:08.1460</td>\n",
       "      <td>86.0</td>\n",
       "      <td>Market St at Dolores St</td>\n",
       "      <td>37.769305</td>\n",
       "      <td>-122.426826</td>\n",
       "      <td>3.0</td>\n",
       "      <td>Powell St BART Station (Market St at 4th St)</td>\n",
       "      <td>37.786375</td>\n",
       "      <td>-122.404904</td>\n",
       "      <td>5905</td>\n",
       "      <td>Customer</td>\n",
       "      <td>1972.0</td>\n",
       "      <td>Male</td>\n",
       "      <td>No</td>\n",
       "    </tr>\n",
       "    <tr>\n",
       "      <th>3</th>\n",
       "      <td>36490</td>\n",
       "      <td>2019-02-28 17:54:26.0100</td>\n",
       "      <td>2019-03-01 04:02:36.8420</td>\n",
       "      <td>375.0</td>\n",
       "      <td>Grove St at Masonic Ave</td>\n",
       "      <td>37.774836</td>\n",
       "      <td>-122.446546</td>\n",
       "      <td>70.0</td>\n",
       "      <td>Central Ave at Fell St</td>\n",
       "      <td>37.773311</td>\n",
       "      <td>-122.444293</td>\n",
       "      <td>6638</td>\n",
       "      <td>Subscriber</td>\n",
       "      <td>1989.0</td>\n",
       "      <td>Other</td>\n",
       "      <td>No</td>\n",
       "    </tr>\n",
       "    <tr>\n",
       "      <th>4</th>\n",
       "      <td>1585</td>\n",
       "      <td>2019-02-28 23:54:18.5490</td>\n",
       "      <td>2019-03-01 00:20:44.0740</td>\n",
       "      <td>7.0</td>\n",
       "      <td>Frank H Ogawa Plaza</td>\n",
       "      <td>37.804562</td>\n",
       "      <td>-122.271738</td>\n",
       "      <td>222.0</td>\n",
       "      <td>10th Ave at E 15th St</td>\n",
       "      <td>37.792714</td>\n",
       "      <td>-122.248780</td>\n",
       "      <td>4898</td>\n",
       "      <td>Subscriber</td>\n",
       "      <td>1974.0</td>\n",
       "      <td>Male</td>\n",
       "      <td>Yes</td>\n",
       "    </tr>\n",
       "  </tbody>\n",
       "</table>\n",
       "</div>"
      ],
      "text/plain": [
       "   duration_sec                start_time                  end_time  \\\n",
       "0         52185  2019-02-28 17:32:10.1450  2019-03-01 08:01:55.9750   \n",
       "1         42521  2019-02-28 18:53:21.7890  2019-03-01 06:42:03.0560   \n",
       "2         61854  2019-02-28 12:13:13.2180  2019-03-01 05:24:08.1460   \n",
       "3         36490  2019-02-28 17:54:26.0100  2019-03-01 04:02:36.8420   \n",
       "4          1585  2019-02-28 23:54:18.5490  2019-03-01 00:20:44.0740   \n",
       "\n",
       "   start_station_id                                start_station_name  \\\n",
       "0              21.0  Montgomery St BART Station (Market St at 2nd St)   \n",
       "1              23.0                     The Embarcadero at Steuart St   \n",
       "2              86.0                           Market St at Dolores St   \n",
       "3             375.0                           Grove St at Masonic Ave   \n",
       "4               7.0                               Frank H Ogawa Plaza   \n",
       "\n",
       "   start_station_latitude  start_station_longitude  end_station_id  \\\n",
       "0               37.789625              -122.400811            13.0   \n",
       "1               37.791464              -122.391034            81.0   \n",
       "2               37.769305              -122.426826             3.0   \n",
       "3               37.774836              -122.446546            70.0   \n",
       "4               37.804562              -122.271738           222.0   \n",
       "\n",
       "                               end_station_name  end_station_latitude  \\\n",
       "0                Commercial St at Montgomery St             37.794231   \n",
       "1                            Berry St at 4th St             37.775880   \n",
       "2  Powell St BART Station (Market St at 4th St)             37.786375   \n",
       "3                        Central Ave at Fell St             37.773311   \n",
       "4                         10th Ave at E 15th St             37.792714   \n",
       "\n",
       "   end_station_longitude  bike_id   user_type  member_birth_year  \\\n",
       "0            -122.402923     4902    Customer             1984.0   \n",
       "1            -122.393170     2535    Customer                NaN   \n",
       "2            -122.404904     5905    Customer             1972.0   \n",
       "3            -122.444293     6638  Subscriber             1989.0   \n",
       "4            -122.248780     4898  Subscriber             1974.0   \n",
       "\n",
       "  member_gender bike_share_for_all_trip  \n",
       "0          Male                      No  \n",
       "1           NaN                      No  \n",
       "2          Male                      No  \n",
       "3         Other                      No  \n",
       "4          Male                     Yes  "
      ]
     },
     "execution_count": 2,
     "metadata": {},
     "output_type": "execute_result"
    }
   ],
   "source": [
    "bikeSharing = pd.read_csv('201902-fordgobike-tripdata.csv')\n",
    "bikeSharing.head(5)"
   ]
  },
  {
   "cell_type": "code",
   "execution_count": 3,
   "metadata": {
    "slideshow": {
     "slide_type": "skip"
    }
   },
   "outputs": [
    {
     "name": "stdout",
     "output_type": "stream",
     "text": [
      "<class 'pandas.core.frame.DataFrame'>\n",
      "RangeIndex: 183412 entries, 0 to 183411\n",
      "Data columns (total 16 columns):\n",
      " #   Column                   Non-Null Count   Dtype  \n",
      "---  ------                   --------------   -----  \n",
      " 0   duration_sec             183412 non-null  int64  \n",
      " 1   start_time               183412 non-null  object \n",
      " 2   end_time                 183412 non-null  object \n",
      " 3   start_station_id         183215 non-null  float64\n",
      " 4   start_station_name       183215 non-null  object \n",
      " 5   start_station_latitude   183412 non-null  float64\n",
      " 6   start_station_longitude  183412 non-null  float64\n",
      " 7   end_station_id           183215 non-null  float64\n",
      " 8   end_station_name         183215 non-null  object \n",
      " 9   end_station_latitude     183412 non-null  float64\n",
      " 10  end_station_longitude    183412 non-null  float64\n",
      " 11  bike_id                  183412 non-null  int64  \n",
      " 12  user_type                183412 non-null  object \n",
      " 13  member_birth_year        175147 non-null  float64\n",
      " 14  member_gender            175147 non-null  object \n",
      " 15  bike_share_for_all_trip  183412 non-null  object \n",
      "dtypes: float64(7), int64(2), object(7)\n",
      "memory usage: 22.4+ MB\n"
     ]
    }
   ],
   "source": [
    "bikeSharing.info()"
   ]
  },
  {
   "cell_type": "markdown",
   "metadata": {
    "slideshow": {
     "slide_type": "slide"
    }
   },
   "source": [
    "### What is the structure of your dataset?\n",
    "This dataset contains 183413 rows (before cleaning) and 16 columns named as following:\n",
    "\n",
    "- Trip Duration (seconds)\n",
    "- Start Time and Date\n",
    "- Stop Time and Date\n",
    "- Start Station Name\n",
    "- End Station Name\n",
    "- Station ID\n",
    "- Station Lat/Long\n",
    "- Bike ID\n",
    "- User Type (Customer = 24-hour pass or 3-day pass user; Subscriber = Annual Member)\n",
    "- Gender (Zero=unknown; 1=male; 2=female)\n",
    "- Year of Birth\n",
    "- *bike_share_for_all_trip* which tracks members who are enrolled in the Bike Share for All program for low-income residents\n",
    "\n"
   ]
  },
  {
   "cell_type": "markdown",
   "metadata": {
    "slideshow": {
     "slide_type": "slide"
    }
   },
   "source": [
    "### What is/are the main feature(s) of interest in your dataset?\n",
    "\n",
    "> The Duration of the ride.\n",
    "\n",
    "### What features in the dataset do you think will help support your investigation into your feature(s) of interest?\n",
    "\n",
    "> Mainly factors that are related to longer rides including member year of birth, gender of the member (Male/Female/Other), member type (Subscriber/Customer), and if the member uses bike share for all the trip or not."
   ]
  },
  {
   "cell_type": "markdown",
   "metadata": {
    "slideshow": {
     "slide_type": "skip"
    }
   },
   "source": [
    "## Cleaning\n",
    "- Drop `NaN`'s values in the dataset since we can't fill them any random values or even fill them with the mean or median, e.g., `NaN`'s in `user_type` and `user_gender`\n",
    "- convert `start_time` and `end_time` dtype from object to datetime.\n",
    "- convert `start_station_id`, `end_station_id` and `member_birth_year` dtype from float to int.\n",
    "- convert `user_type`,`member_gender` and `bike_share_for_all_trip` dtype from plain object to categorical."
   ]
  },
  {
   "cell_type": "code",
   "execution_count": 4,
   "metadata": {
    "slideshow": {
     "slide_type": "skip"
    }
   },
   "outputs": [],
   "source": [
    "#Drop NaNs \n",
    "bikeSharing.dropna(inplace=True)"
   ]
  },
  {
   "cell_type": "code",
   "execution_count": 5,
   "metadata": {
    "slideshow": {
     "slide_type": "skip"
    }
   },
   "outputs": [],
   "source": [
    "# Convert 'start_time' and 'end_time' to datetime dtype.\n",
    "bikeSharing['start_time'] = pd.to_datetime(bikeSharing['start_time'])\n",
    "bikeSharing['end_time'] = pd.to_datetime(bikeSharing['end_time'])"
   ]
  },
  {
   "cell_type": "code",
   "execution_count": 6,
   "metadata": {
    "slideshow": {
     "slide_type": "skip"
    }
   },
   "outputs": [],
   "source": [
    "# Convert 'start_station_id', 'end_station_id' and 'member_birth_year' to int dtype.\n",
    "for column in ['start_station_id', 'end_station_id', 'member_birth_year']:\n",
    "    bikeSharing[column] = bikeSharing[column].astype(int)"
   ]
  },
  {
   "cell_type": "code",
   "execution_count": 7,
   "metadata": {
    "slideshow": {
     "slide_type": "skip"
    }
   },
   "outputs": [],
   "source": [
    "# Convert 'member_gender', 'user_type' and 'bike_share_for_all_trip' to Categorical dtype. \n",
    "col_dic = {\n",
    "    'member_gender':['Male', 'Female', 'Other'],\n",
    "    'user_type':['Subscriber', 'Customer'],\n",
    "    'bike_share_for_all_trip':['Yes', 'No']\n",
    "}\n",
    "\n",
    "for column in col_dic:\n",
    "    new_dtype = pd.api.types.CategoricalDtype(categories=col_dic[column])\n",
    "    bikeSharing[column] = bikeSharing[column].astype(new_dtype)"
   ]
  },
  {
   "cell_type": "code",
   "execution_count": 8,
   "metadata": {
    "slideshow": {
     "slide_type": "skip"
    }
   },
   "outputs": [
    {
     "name": "stdout",
     "output_type": "stream",
     "text": [
      "<class 'pandas.core.frame.DataFrame'>\n",
      "Int64Index: 174952 entries, 0 to 183411\n",
      "Data columns (total 16 columns):\n",
      " #   Column                   Non-Null Count   Dtype         \n",
      "---  ------                   --------------   -----         \n",
      " 0   duration_sec             174952 non-null  int64         \n",
      " 1   start_time               174952 non-null  datetime64[ns]\n",
      " 2   end_time                 174952 non-null  datetime64[ns]\n",
      " 3   start_station_id         174952 non-null  int32         \n",
      " 4   start_station_name       174952 non-null  object        \n",
      " 5   start_station_latitude   174952 non-null  float64       \n",
      " 6   start_station_longitude  174952 non-null  float64       \n",
      " 7   end_station_id           174952 non-null  int32         \n",
      " 8   end_station_name         174952 non-null  object        \n",
      " 9   end_station_latitude     174952 non-null  float64       \n",
      " 10  end_station_longitude    174952 non-null  float64       \n",
      " 11  bike_id                  174952 non-null  int64         \n",
      " 12  user_type                174952 non-null  category      \n",
      " 13  member_birth_year        174952 non-null  int32         \n",
      " 14  member_gender            174952 non-null  category      \n",
      " 15  bike_share_for_all_trip  174952 non-null  category      \n",
      "dtypes: category(3), datetime64[ns](2), float64(4), int32(3), int64(2), object(2)\n",
      "memory usage: 17.2+ MB\n"
     ]
    }
   ],
   "source": [
    "bikeSharing.info()"
   ]
  },
  {
   "cell_type": "code",
   "execution_count": 9,
   "metadata": {
    "slideshow": {
     "slide_type": "skip"
    }
   },
   "outputs": [
    {
     "data": {
      "text/html": [
       "<div>\n",
       "<style scoped>\n",
       "    .dataframe tbody tr th:only-of-type {\n",
       "        vertical-align: middle;\n",
       "    }\n",
       "\n",
       "    .dataframe tbody tr th {\n",
       "        vertical-align: top;\n",
       "    }\n",
       "\n",
       "    .dataframe thead th {\n",
       "        text-align: right;\n",
       "    }\n",
       "</style>\n",
       "<table border=\"1\" class=\"dataframe\">\n",
       "  <thead>\n",
       "    <tr style=\"text-align: right;\">\n",
       "      <th></th>\n",
       "      <th>duration_sec</th>\n",
       "      <th>start_time</th>\n",
       "      <th>end_time</th>\n",
       "      <th>start_station_id</th>\n",
       "      <th>start_station_name</th>\n",
       "      <th>start_station_latitude</th>\n",
       "      <th>start_station_longitude</th>\n",
       "      <th>end_station_id</th>\n",
       "      <th>end_station_name</th>\n",
       "      <th>end_station_latitude</th>\n",
       "      <th>end_station_longitude</th>\n",
       "      <th>bike_id</th>\n",
       "      <th>user_type</th>\n",
       "      <th>member_birth_year</th>\n",
       "      <th>member_gender</th>\n",
       "      <th>bike_share_for_all_trip</th>\n",
       "    </tr>\n",
       "  </thead>\n",
       "  <tbody>\n",
       "    <tr>\n",
       "      <th>0</th>\n",
       "      <td>52185</td>\n",
       "      <td>2019-02-28 17:32:10.145</td>\n",
       "      <td>2019-03-01 08:01:55.975</td>\n",
       "      <td>21</td>\n",
       "      <td>Montgomery St BART Station (Market St at 2nd St)</td>\n",
       "      <td>37.789625</td>\n",
       "      <td>-122.400811</td>\n",
       "      <td>13</td>\n",
       "      <td>Commercial St at Montgomery St</td>\n",
       "      <td>37.794231</td>\n",
       "      <td>-122.402923</td>\n",
       "      <td>4902</td>\n",
       "      <td>Customer</td>\n",
       "      <td>1984</td>\n",
       "      <td>Male</td>\n",
       "      <td>No</td>\n",
       "    </tr>\n",
       "    <tr>\n",
       "      <th>2</th>\n",
       "      <td>61854</td>\n",
       "      <td>2019-02-28 12:13:13.218</td>\n",
       "      <td>2019-03-01 05:24:08.146</td>\n",
       "      <td>86</td>\n",
       "      <td>Market St at Dolores St</td>\n",
       "      <td>37.769305</td>\n",
       "      <td>-122.426826</td>\n",
       "      <td>3</td>\n",
       "      <td>Powell St BART Station (Market St at 4th St)</td>\n",
       "      <td>37.786375</td>\n",
       "      <td>-122.404904</td>\n",
       "      <td>5905</td>\n",
       "      <td>Customer</td>\n",
       "      <td>1972</td>\n",
       "      <td>Male</td>\n",
       "      <td>No</td>\n",
       "    </tr>\n",
       "    <tr>\n",
       "      <th>3</th>\n",
       "      <td>36490</td>\n",
       "      <td>2019-02-28 17:54:26.010</td>\n",
       "      <td>2019-03-01 04:02:36.842</td>\n",
       "      <td>375</td>\n",
       "      <td>Grove St at Masonic Ave</td>\n",
       "      <td>37.774836</td>\n",
       "      <td>-122.446546</td>\n",
       "      <td>70</td>\n",
       "      <td>Central Ave at Fell St</td>\n",
       "      <td>37.773311</td>\n",
       "      <td>-122.444293</td>\n",
       "      <td>6638</td>\n",
       "      <td>Subscriber</td>\n",
       "      <td>1989</td>\n",
       "      <td>Other</td>\n",
       "      <td>No</td>\n",
       "    </tr>\n",
       "    <tr>\n",
       "      <th>4</th>\n",
       "      <td>1585</td>\n",
       "      <td>2019-02-28 23:54:18.549</td>\n",
       "      <td>2019-03-01 00:20:44.074</td>\n",
       "      <td>7</td>\n",
       "      <td>Frank H Ogawa Plaza</td>\n",
       "      <td>37.804562</td>\n",
       "      <td>-122.271738</td>\n",
       "      <td>222</td>\n",
       "      <td>10th Ave at E 15th St</td>\n",
       "      <td>37.792714</td>\n",
       "      <td>-122.248780</td>\n",
       "      <td>4898</td>\n",
       "      <td>Subscriber</td>\n",
       "      <td>1974</td>\n",
       "      <td>Male</td>\n",
       "      <td>Yes</td>\n",
       "    </tr>\n",
       "    <tr>\n",
       "      <th>5</th>\n",
       "      <td>1793</td>\n",
       "      <td>2019-02-28 23:49:58.632</td>\n",
       "      <td>2019-03-01 00:19:51.760</td>\n",
       "      <td>93</td>\n",
       "      <td>4th St at Mission Bay Blvd S</td>\n",
       "      <td>37.770407</td>\n",
       "      <td>-122.391198</td>\n",
       "      <td>323</td>\n",
       "      <td>Broadway at Kearny</td>\n",
       "      <td>37.798014</td>\n",
       "      <td>-122.405950</td>\n",
       "      <td>5200</td>\n",
       "      <td>Subscriber</td>\n",
       "      <td>1959</td>\n",
       "      <td>Male</td>\n",
       "      <td>No</td>\n",
       "    </tr>\n",
       "  </tbody>\n",
       "</table>\n",
       "</div>"
      ],
      "text/plain": [
       "   duration_sec              start_time                end_time  \\\n",
       "0         52185 2019-02-28 17:32:10.145 2019-03-01 08:01:55.975   \n",
       "2         61854 2019-02-28 12:13:13.218 2019-03-01 05:24:08.146   \n",
       "3         36490 2019-02-28 17:54:26.010 2019-03-01 04:02:36.842   \n",
       "4          1585 2019-02-28 23:54:18.549 2019-03-01 00:20:44.074   \n",
       "5          1793 2019-02-28 23:49:58.632 2019-03-01 00:19:51.760   \n",
       "\n",
       "   start_station_id                                start_station_name  \\\n",
       "0                21  Montgomery St BART Station (Market St at 2nd St)   \n",
       "2                86                           Market St at Dolores St   \n",
       "3               375                           Grove St at Masonic Ave   \n",
       "4                 7                               Frank H Ogawa Plaza   \n",
       "5                93                      4th St at Mission Bay Blvd S   \n",
       "\n",
       "   start_station_latitude  start_station_longitude  end_station_id  \\\n",
       "0               37.789625              -122.400811              13   \n",
       "2               37.769305              -122.426826               3   \n",
       "3               37.774836              -122.446546              70   \n",
       "4               37.804562              -122.271738             222   \n",
       "5               37.770407              -122.391198             323   \n",
       "\n",
       "                               end_station_name  end_station_latitude  \\\n",
       "0                Commercial St at Montgomery St             37.794231   \n",
       "2  Powell St BART Station (Market St at 4th St)             37.786375   \n",
       "3                        Central Ave at Fell St             37.773311   \n",
       "4                         10th Ave at E 15th St             37.792714   \n",
       "5                            Broadway at Kearny             37.798014   \n",
       "\n",
       "   end_station_longitude  bike_id   user_type  member_birth_year  \\\n",
       "0            -122.402923     4902    Customer               1984   \n",
       "2            -122.404904     5905    Customer               1972   \n",
       "3            -122.444293     6638  Subscriber               1989   \n",
       "4            -122.248780     4898  Subscriber               1974   \n",
       "5            -122.405950     5200  Subscriber               1959   \n",
       "\n",
       "  member_gender bike_share_for_all_trip  \n",
       "0          Male                      No  \n",
       "2          Male                      No  \n",
       "3         Other                      No  \n",
       "4          Male                     Yes  \n",
       "5          Male                      No  "
      ]
     },
     "execution_count": 9,
     "metadata": {},
     "output_type": "execute_result"
    }
   ],
   "source": [
    "bikeSharing.head()"
   ]
  },
  {
   "cell_type": "markdown",
   "metadata": {
    "slideshow": {
     "slide_type": "skip"
    }
   },
   "source": [
    "## Feature Engineering\n",
    "Since the traveled distance wasn't provided in the dataset, we can take another approach to calculate the distance between the start and end stations based on their latitude and longitude (doesn't mean it's the ride traveled distance)\n",
    "<br>\n",
    "**Note:** such approach is not quite accurate since we don't how the ride track was, however, we will generate this feature to get some sense of the distance between the start and end stations.\n",
    "<br>\n",
    "**Note:** '0' indicates that the member returned the bike to the same station where the bike was taken from.\n",
    "\n",
    "<hr>\n",
    " We will extract the start hour and end hour from start time and end time, respectively."
   ]
  },
  {
   "cell_type": "code",
   "execution_count": 10,
   "metadata": {
    "slideshow": {
     "slide_type": "skip"
    }
   },
   "outputs": [
    {
     "data": {
      "text/html": [
       "<div>\n",
       "<style scoped>\n",
       "    .dataframe tbody tr th:only-of-type {\n",
       "        vertical-align: middle;\n",
       "    }\n",
       "\n",
       "    .dataframe tbody tr th {\n",
       "        vertical-align: top;\n",
       "    }\n",
       "\n",
       "    .dataframe thead th {\n",
       "        text-align: right;\n",
       "    }\n",
       "</style>\n",
       "<table border=\"1\" class=\"dataframe\">\n",
       "  <thead>\n",
       "    <tr style=\"text-align: right;\">\n",
       "      <th></th>\n",
       "      <th>duration_sec</th>\n",
       "      <th>start_time</th>\n",
       "      <th>end_time</th>\n",
       "      <th>start_station_id</th>\n",
       "      <th>start_station_name</th>\n",
       "      <th>start_station_latitude</th>\n",
       "      <th>start_station_longitude</th>\n",
       "      <th>end_station_id</th>\n",
       "      <th>end_station_name</th>\n",
       "      <th>end_station_latitude</th>\n",
       "      <th>end_station_longitude</th>\n",
       "      <th>bike_id</th>\n",
       "      <th>user_type</th>\n",
       "      <th>member_birth_year</th>\n",
       "      <th>member_gender</th>\n",
       "      <th>bike_share_for_all_trip</th>\n",
       "      <th>distance</th>\n",
       "    </tr>\n",
       "  </thead>\n",
       "  <tbody>\n",
       "    <tr>\n",
       "      <th>0</th>\n",
       "      <td>52185</td>\n",
       "      <td>2019-02-28 17:32:10.145</td>\n",
       "      <td>2019-03-01 08:01:55.975</td>\n",
       "      <td>21</td>\n",
       "      <td>Montgomery St BART Station (Market St at 2nd St)</td>\n",
       "      <td>37.789625</td>\n",
       "      <td>-122.400811</td>\n",
       "      <td>13</td>\n",
       "      <td>Commercial St at Montgomery St</td>\n",
       "      <td>37.794231</td>\n",
       "      <td>-122.402923</td>\n",
       "      <td>4902</td>\n",
       "      <td>Customer</td>\n",
       "      <td>1984</td>\n",
       "      <td>Male</td>\n",
       "      <td>No</td>\n",
       "      <td>0.544879</td>\n",
       "    </tr>\n",
       "    <tr>\n",
       "      <th>2</th>\n",
       "      <td>61854</td>\n",
       "      <td>2019-02-28 12:13:13.218</td>\n",
       "      <td>2019-03-01 05:24:08.146</td>\n",
       "      <td>86</td>\n",
       "      <td>Market St at Dolores St</td>\n",
       "      <td>37.769305</td>\n",
       "      <td>-122.426826</td>\n",
       "      <td>3</td>\n",
       "      <td>Powell St BART Station (Market St at 4th St)</td>\n",
       "      <td>37.786375</td>\n",
       "      <td>-122.404904</td>\n",
       "      <td>5905</td>\n",
       "      <td>Customer</td>\n",
       "      <td>1972</td>\n",
       "      <td>Male</td>\n",
       "      <td>No</td>\n",
       "      <td>2.705394</td>\n",
       "    </tr>\n",
       "    <tr>\n",
       "      <th>3</th>\n",
       "      <td>36490</td>\n",
       "      <td>2019-02-28 17:54:26.010</td>\n",
       "      <td>2019-03-01 04:02:36.842</td>\n",
       "      <td>375</td>\n",
       "      <td>Grove St at Masonic Ave</td>\n",
       "      <td>37.774836</td>\n",
       "      <td>-122.446546</td>\n",
       "      <td>70</td>\n",
       "      <td>Central Ave at Fell St</td>\n",
       "      <td>37.773311</td>\n",
       "      <td>-122.444293</td>\n",
       "      <td>6638</td>\n",
       "      <td>Subscriber</td>\n",
       "      <td>1989</td>\n",
       "      <td>Other</td>\n",
       "      <td>No</td>\n",
       "      <td>0.260820</td>\n",
       "    </tr>\n",
       "    <tr>\n",
       "      <th>4</th>\n",
       "      <td>1585</td>\n",
       "      <td>2019-02-28 23:54:18.549</td>\n",
       "      <td>2019-03-01 00:20:44.074</td>\n",
       "      <td>7</td>\n",
       "      <td>Frank H Ogawa Plaza</td>\n",
       "      <td>37.804562</td>\n",
       "      <td>-122.271738</td>\n",
       "      <td>222</td>\n",
       "      <td>10th Ave at E 15th St</td>\n",
       "      <td>37.792714</td>\n",
       "      <td>-122.248780</td>\n",
       "      <td>4898</td>\n",
       "      <td>Subscriber</td>\n",
       "      <td>1974</td>\n",
       "      <td>Male</td>\n",
       "      <td>Yes</td>\n",
       "      <td>2.410058</td>\n",
       "    </tr>\n",
       "    <tr>\n",
       "      <th>5</th>\n",
       "      <td>1793</td>\n",
       "      <td>2019-02-28 23:49:58.632</td>\n",
       "      <td>2019-03-01 00:19:51.760</td>\n",
       "      <td>93</td>\n",
       "      <td>4th St at Mission Bay Blvd S</td>\n",
       "      <td>37.770407</td>\n",
       "      <td>-122.391198</td>\n",
       "      <td>323</td>\n",
       "      <td>Broadway at Kearny</td>\n",
       "      <td>37.798014</td>\n",
       "      <td>-122.405950</td>\n",
       "      <td>5200</td>\n",
       "      <td>Subscriber</td>\n",
       "      <td>1959</td>\n",
       "      <td>Male</td>\n",
       "      <td>No</td>\n",
       "      <td>3.333249</td>\n",
       "    </tr>\n",
       "  </tbody>\n",
       "</table>\n",
       "</div>"
      ],
      "text/plain": [
       "   duration_sec              start_time                end_time  \\\n",
       "0         52185 2019-02-28 17:32:10.145 2019-03-01 08:01:55.975   \n",
       "2         61854 2019-02-28 12:13:13.218 2019-03-01 05:24:08.146   \n",
       "3         36490 2019-02-28 17:54:26.010 2019-03-01 04:02:36.842   \n",
       "4          1585 2019-02-28 23:54:18.549 2019-03-01 00:20:44.074   \n",
       "5          1793 2019-02-28 23:49:58.632 2019-03-01 00:19:51.760   \n",
       "\n",
       "   start_station_id                                start_station_name  \\\n",
       "0                21  Montgomery St BART Station (Market St at 2nd St)   \n",
       "2                86                           Market St at Dolores St   \n",
       "3               375                           Grove St at Masonic Ave   \n",
       "4                 7                               Frank H Ogawa Plaza   \n",
       "5                93                      4th St at Mission Bay Blvd S   \n",
       "\n",
       "   start_station_latitude  start_station_longitude  end_station_id  \\\n",
       "0               37.789625              -122.400811              13   \n",
       "2               37.769305              -122.426826               3   \n",
       "3               37.774836              -122.446546              70   \n",
       "4               37.804562              -122.271738             222   \n",
       "5               37.770407              -122.391198             323   \n",
       "\n",
       "                               end_station_name  end_station_latitude  \\\n",
       "0                Commercial St at Montgomery St             37.794231   \n",
       "2  Powell St BART Station (Market St at 4th St)             37.786375   \n",
       "3                        Central Ave at Fell St             37.773311   \n",
       "4                         10th Ave at E 15th St             37.792714   \n",
       "5                            Broadway at Kearny             37.798014   \n",
       "\n",
       "   end_station_longitude  bike_id   user_type  member_birth_year  \\\n",
       "0            -122.402923     4902    Customer               1984   \n",
       "2            -122.404904     5905    Customer               1972   \n",
       "3            -122.444293     6638  Subscriber               1989   \n",
       "4            -122.248780     4898  Subscriber               1974   \n",
       "5            -122.405950     5200  Subscriber               1959   \n",
       "\n",
       "  member_gender bike_share_for_all_trip  distance  \n",
       "0          Male                      No  0.544879  \n",
       "2          Male                      No  2.705394  \n",
       "3         Other                      No  0.260820  \n",
       "4          Male                     Yes  2.410058  \n",
       "5          Male                      No  3.333249  "
      ]
     },
     "execution_count": 10,
     "metadata": {},
     "output_type": "execute_result"
    }
   ],
   "source": [
    "from numpy import sin, cos, sqrt, arctan2, radians\n",
    "\n",
    "# approximate radius of earth in km\n",
    "R = 6373.0\n",
    "\n",
    "#Converting latitude/longitude to radians. \n",
    "lat1 = radians(bikeSharing['start_station_latitude'])\n",
    "lon1 = radians(bikeSharing['start_station_longitude'])\n",
    "lat2 = radians(bikeSharing['end_station_latitude'])\n",
    "lon2 = radians(bikeSharing['end_station_longitude'])\n",
    "\n",
    "#Calculating the diff. between latitude and longitude, respectively.\n",
    "dlon = lon2 - lon1\n",
    "dlat = lat2 - lat1\n",
    "\n",
    "a = sin(dlat / 2)**2 + cos(lat1) * cos(lat2) * sin(dlon / 2)**2\n",
    "c = 2 * arctan2(sqrt(a), sqrt(1 - a))\n",
    "\n",
    "#Store distance calculated for each ride into bikeSharing['distance'].\n",
    "bikeSharing['distance'] = R * c\n",
    "bikeSharing.head(5)"
   ]
  },
  {
   "cell_type": "code",
   "execution_count": 11,
   "metadata": {
    "slideshow": {
     "slide_type": "skip"
    }
   },
   "outputs": [],
   "source": [
    "bikeSharing['start_hour'] = bikeSharing.start_time.dt.hour\n",
    "bikeSharing['end_hour'] = bikeSharing.end_time.dt.hour"
   ]
  },
  {
   "cell_type": "markdown",
   "metadata": {
    "slideshow": {
     "slide_type": "slide"
    }
   },
   "source": [
    "## Univariate Exploration"
   ]
  },
  {
   "cell_type": "markdown",
   "metadata": {
    "slideshow": {
     "slide_type": "skip"
    }
   },
   "source": [
    "### How is the trip duration is distributed among the dataset? "
   ]
  },
  {
   "cell_type": "code",
   "execution_count": 12,
   "metadata": {
    "slideshow": {
     "slide_type": "skip"
    }
   },
   "outputs": [
    {
     "data": {
      "text/plain": [
       "count    5.242919\n",
       "mean     2.847574\n",
       "std      3.215427\n",
       "min      1.785330\n",
       "25%      2.509203\n",
       "50%      2.707570\n",
       "75%      2.897077\n",
       "max      4.927103\n",
       "Name: duration_sec, dtype: float64"
      ]
     },
     "execution_count": 12,
     "metadata": {},
     "output_type": "execute_result"
    }
   ],
   "source": [
    "np.log10(bikeSharing.duration_sec.describe())"
   ]
  },
  {
   "cell_type": "code",
   "execution_count": 13,
   "metadata": {
    "slideshow": {
     "slide_type": "skip"
    }
   },
   "outputs": [
    {
     "data": {
      "image/png": "[encoded data removed]",
      "text/plain": [
       "<Figure size 576x432 with 2 Axes>"
      ]
     },
     "metadata": {
      "needs_background": "light"
     },
     "output_type": "display_data"
    }
   ],
   "source": [
    "figure = plt.figure(figsize=[8,6])\n",
    "\n",
    "#Creating 2 subplots to show the histogram before and after applying log scale to the x-axis.\n",
    "#First subplot with no scaling\n",
    "plt.subplot(1,2,1)\n",
    "plt.hist(data=bikeSharing,x='duration_sec', bins= np.arange(0, bikeSharing.duration_sec.max()+10,10 ))\n",
    "plt.xlabel('Duration (Sec)')\n",
    "plt.ylabel('Number of rides')\n",
    "\n",
    "\n",
    "# Second subplot with log scale\n",
    "plt.subplot(1,2,2)\n",
    "plt.hist(data=bikeSharing,x='duration_sec', bins= 10 ** np.arange(1.79, 4.93+0.1,0.1 ))\n",
    "plt.xscale('log')\n",
    "\n",
    "# Generate the x-ticks you want to apply\n",
    "ticks = [100, 1000, 10000, 100000]\n",
    "# Convert ticks into string values, to be displaye dlong the x-axis\n",
    "labels = ['{}'.format(v) for v in ticks]\n",
    "plt.xticks(ticks, labels);\n",
    "plt.xlabel('Duration in log scale (Sec)')\n",
    "plt.title(\" Duration Histogram\");"
   ]
  },
  {
   "cell_type": "code",
   "execution_count": 14,
   "metadata": {
    "slideshow": {
     "slide_type": "skip"
    }
   },
   "outputs": [
    {
     "data": {
      "text/plain": [
       "count    5.242919\n",
       "mean     2.847574\n",
       "std      3.215427\n",
       "min      1.785330\n",
       "25%      2.509203\n",
       "50%      2.707570\n",
       "75%      2.897077\n",
       "max      4.927103\n",
       "Name: duration_sec, dtype: float64"
      ]
     },
     "execution_count": 14,
     "metadata": {},
     "output_type": "execute_result"
    }
   ],
   "source": [
    "#Check min and max value for the scaled x-axis\n",
    "np.log10(bikeSharing.duration_sec.describe())"
   ]
  },
  {
   "cell_type": "code",
   "execution_count": 15,
   "metadata": {
    "slideshow": {
     "slide_type": "skip"
    }
   },
   "outputs": [
    {
     "data": {
      "text/plain": [
       "85465     84548\n",
       "127999    83519\n",
       "112435    83407\n",
       "5203      83195\n",
       "95750     82512\n",
       "          ...  \n",
       "85488        61\n",
       "121470       61\n",
       "169882       61\n",
       "82564        61\n",
       "58992        61\n",
       "Name: duration_sec, Length: 174952, dtype: int64"
      ]
     },
     "execution_count": 15,
     "metadata": {},
     "output_type": "execute_result"
    }
   ],
   "source": [
    "# Check the longest ride durations inside the dataset \n",
    "bikeSharing.duration_sec.sort_values(ascending=False)"
   ]
  },
  {
   "cell_type": "code",
   "execution_count": 16,
   "metadata": {
    "slideshow": {
     "slide_type": "skip"
    }
   },
   "outputs": [
    {
     "data": {
      "text/plain": [
       "174068"
      ]
     },
     "execution_count": 16,
     "metadata": {},
     "output_type": "execute_result"
    }
   ],
   "source": [
    "(bikeSharing.duration_sec.values < 5000).sum()"
   ]
  },
  {
   "cell_type": "code",
   "execution_count": 17,
   "metadata": {
    "slideshow": {
     "slide_type": "skip"
    }
   },
   "outputs": [
    {
     "data": {
      "text/plain": [
       "628.8266941654986"
      ]
     },
     "execution_count": 17,
     "metadata": {},
     "output_type": "execute_result"
    }
   ],
   "source": [
    "bikeSharing[bikeSharing.duration_sec.values < 5000].duration_sec.mean()"
   ]
  },
  {
   "cell_type": "markdown",
   "metadata": {
    "slideshow": {
     "slide_type": "skip"
    }
   },
   "source": [
    "> **Observation:** The left subplot clearly shows that the majority of rides take 630 sec (around 10 min) on average up to 5000 sec (around 83 min) as the whole ride duration with some extraordinary rides that can take up to 80000 sec which interprets why the x-axis is extended to + 80000 sec so after applying the log transformation the duration values take approximately normal distribution around 800 on the log scaled subplot."
   ]
  },
  {
   "cell_type": "markdown",
   "metadata": {
    "slideshow": {
     "slide_type": "slide"
    }
   },
   "source": [
    "### What is the year of the birth interval that has most members born in?"
   ]
  },
  {
   "cell_type": "code",
   "execution_count": 18,
   "metadata": {
    "slideshow": {
     "slide_type": "subslide"
    }
   },
   "outputs": [
    {
     "data": {
      "image/png": "[encoded data removed]",
      "text/plain": [
       "<Figure size 1080x720 with 1 Axes>"
      ]
     },
     "metadata": {
      "needs_background": "light"
     },
     "output_type": "display_data"
    }
   ],
   "source": [
    "color = sb.color_palette()[0]\n",
    "plt.figure(figsize=[15,10])\n",
    "sb.countplot(bikeSharing.member_birth_year, color=color);\n",
    "plt.xticks(rotation=90)\n",
    "plt.xlabel('Member Birth Year')\n",
    "plt.ylabel('Number of members')\n",
    "plt.title('Member Year of Birth Barplot');"
   ]
  },
  {
   "cell_type": "code",
   "execution_count": 19,
   "metadata": {
    "slideshow": {
     "slide_type": "skip"
    }
   },
   "outputs": [
    {
     "data": {
      "text/plain": [
       "1878"
      ]
     },
     "execution_count": 19,
     "metadata": {},
     "output_type": "execute_result"
    }
   ],
   "source": [
    "bikeSharing.member_birth_year.min()"
   ]
  },
  {
   "cell_type": "code",
   "execution_count": 20,
   "metadata": {
    "slideshow": {
     "slide_type": "skip"
    }
   },
   "outputs": [
    {
     "data": {
      "text/plain": [
       "1988    10214\n",
       "1993     9323\n",
       "1989     8967\n",
       "1990     8640\n",
       "1991     8484\n",
       "        ...  \n",
       "1878        1\n",
       "1930        1\n",
       "1928        1\n",
       "1927        1\n",
       "1910        1\n",
       "Name: member_birth_year, Length: 75, dtype: int64"
      ]
     },
     "execution_count": 20,
     "metadata": {},
     "output_type": "execute_result"
    }
   ],
   "source": [
    "bikeSharing.member_birth_year.value_counts()"
   ]
  },
  {
   "cell_type": "markdown",
   "metadata": {
    "slideshow": {
     "slide_type": "subslide"
    }
   },
   "source": [
    "> **Observation:** Since the above barplot shows right skewness, we can clearly see that majority of the members were born in [1980, 2000] interval with more that 10,000 members were born in 1988 and as we go down from 1980, number of members deceased until we find members who were born in 1878! "
   ]
  },
  {
   "cell_type": "markdown",
   "metadata": {
    "slideshow": {
     "slide_type": "slide"
    }
   },
   "source": [
    "### What is the distance between the start station and end station usually be?"
   ]
  },
  {
   "cell_type": "code",
   "execution_count": 21,
   "metadata": {
    "slideshow": {
     "slide_type": "subslide"
    }
   },
   "outputs": [
    {
     "data": {
      "image/png": "[encoded data removed]",
      "text/plain": [
       "<Figure size 432x288 with 1 Axes>"
      ]
     },
     "metadata": {
      "needs_background": "light"
     },
     "output_type": "display_data"
    }
   ],
   "source": [
    "plt.hist(bikeSharing[bikeSharing.distance < 20.0].distance, bins = np.arange(0, 10+1, 0.5))\n",
    "plt.xlabel('Distance between start and end stations (km)')\n",
    "plt.ylabel('Number of rides')\n",
    "plt.title('Distance between the start station and end station Histogam');"
   ]
  },
  {
   "cell_type": "code",
   "execution_count": 22,
   "metadata": {
    "slideshow": {
     "slide_type": "skip"
    }
   },
   "outputs": [
    {
     "data": {
      "text/plain": [
       "9"
      ]
     },
     "execution_count": 22,
     "metadata": {},
     "output_type": "execute_result"
    }
   ],
   "source": [
    "(bikeSharing.distance.values >10).sum()"
   ]
  },
  {
   "cell_type": "code",
   "execution_count": 23,
   "metadata": {
    "slideshow": {
     "slide_type": "skip"
    }
   },
   "outputs": [
    {
     "data": {
      "text/plain": [
       "3458"
      ]
     },
     "execution_count": 23,
     "metadata": {},
     "output_type": "execute_result"
    }
   ],
   "source": [
    "(bikeSharing.distance.values == 0).sum()"
   ]
  },
  {
   "cell_type": "markdown",
   "metadata": {
    "slideshow": {
     "slide_type": "subslide"
    }
   },
   "source": [
    "> **Observations:** As we mentioned before that generation the distance between the start and end stations can be misleading and nonintuitive since this distance doesn't consider the ride track so basically the member can take the bike from a certain start station and then return it to the same station so the distance will be 0 as shown in the plot!\n",
    "<br>\n",
    "We also found extraordinary rides that distances of more than 10 km in fact they are only 9 rides out of the 174952 rides.\n",
    "<br>\n",
    "Since this feature won't be a good indicator for the duration of the ride we will keep it, just to get a sense of the distance between the start point and endpoint of the ride."
   ]
  },
  {
   "cell_type": "markdown",
   "metadata": {
    "slideshow": {
     "slide_type": "skip"
    }
   },
   "source": [
    "### What is the most user type among users?"
   ]
  },
  {
   "cell_type": "code",
   "execution_count": 24,
   "metadata": {
    "slideshow": {
     "slide_type": "skip"
    }
   },
   "outputs": [],
   "source": [
    "color = sb.color_palette()[0]\n",
    "def custom_barplot(x, vertical_margin,xlabel=None, ylabel=None, title=None, figsize = (7,5),color=color):\n",
    "    ''' Plot custom Barplot with labels and values of each bar above it'''\n",
    "    \n",
    "    plt.figure(figsize=figsize)\n",
    "    sb.countplot(data=bikeSharing, x=x, color=color)\n",
    "    value_counts = bikeSharing[x].value_counts()\n",
    "    \n",
    "    show_values(value_counts, vertical_margin)\n",
    "    \n",
    "    plt.xlabel(xlabel)\n",
    "    plt.ylabel(ylabel)\n",
    "    plt.title(title)\n",
    "\n",
    "    \n",
    "        \n",
    "def show_values(value_counts, vertical_margin):\n",
    "    ''' Show the value of each bar above it'''\n",
    "    \n",
    "    for i in range (len(value_counts)):\n",
    "        count = value_counts[i]\n",
    "        plt.text(i, count+vertical_margin, count, ha = 'center', va='top')"
   ]
  },
  {
   "cell_type": "code",
   "execution_count": 25,
   "metadata": {
    "slideshow": {
     "slide_type": "skip"
    }
   },
   "outputs": [
    {
     "data": {
      "image/png": "[encoded data removed]",
      "text/plain": [
       "<Figure size 504x360 with 1 Axes>"
      ]
     },
     "metadata": {
      "needs_background": "light"
     },
     "output_type": "display_data"
    }
   ],
   "source": [
    "custom_barplot(x = 'user_type', vertical_margin =5500,\n",
    "               xlabel='Member Type',\n",
    "               ylabel='Number of Members',\n",
    "               title='Member Type Barplot')\n"
   ]
  },
  {
   "cell_type": "code",
   "execution_count": 26,
   "metadata": {
    "slideshow": {
     "slide_type": "skip"
    }
   },
   "outputs": [
    {
     "data": {
      "text/plain": [
       "Subscriber    0.905311\n",
       "Customer      0.094689\n",
       "Name: user_type, dtype: float64"
      ]
     },
     "execution_count": 26,
     "metadata": {},
     "output_type": "execute_result"
    }
   ],
   "source": [
    "bikeSharing.user_type.value_counts(normalize=True)"
   ]
  },
  {
   "cell_type": "markdown",
   "metadata": {
    "slideshow": {
     "slide_type": "skip"
    }
   },
   "source": [
    "> **Observation:** Majority of members (more than 90%) were subscribed to bike-share service while less than 10% of members weren't subscribed.\n",
    "This will be quite interesting for further analysis and exploration to see who usually takes longer rides."
   ]
  },
  {
   "cell_type": "markdown",
   "metadata": {
    "slideshow": {
     "slide_type": "skip"
    }
   },
   "source": [
    "### What is the most gender among users?"
   ]
  },
  {
   "cell_type": "code",
   "execution_count": 27,
   "metadata": {
    "slideshow": {
     "slide_type": "skip"
    }
   },
   "outputs": [
    {
     "data": {
      "image/png": "[encoded data removed]",
      "text/plain": [
       "<Figure size 504x360 with 1 Axes>"
      ]
     },
     "metadata": {
      "needs_background": "light"
     },
     "output_type": "display_data"
    }
   ],
   "source": [
    "custom_barplot(x = 'member_gender', vertical_margin =5000,\n",
    "               xlabel='Member Gender',\n",
    "               ylabel='Number of Members',\n",
    "               title='Member Gender Barplot')"
   ]
  },
  {
   "cell_type": "code",
   "execution_count": 28,
   "metadata": {
    "slideshow": {
     "slide_type": "skip"
    }
   },
   "outputs": [
    {
     "data": {
      "text/plain": [
       "Male      0.745919\n",
       "Female    0.233235\n",
       "Other     0.020846\n",
       "Name: member_gender, dtype: float64"
      ]
     },
     "execution_count": 28,
     "metadata": {},
     "output_type": "execute_result"
    }
   ],
   "source": [
    "bikeSharing.member_gender.value_counts(normalize=True)"
   ]
  },
  {
   "cell_type": "markdown",
   "metadata": {
    "slideshow": {
     "slide_type": "skip"
    }
   },
   "source": [
    "> **Observation:** Male members are around 75% of all members while Females are around 23% and 2% of Others.\n",
    "Similar to member type barplot, further analysis is required to see if male members will have longer rides than female members."
   ]
  },
  {
   "cell_type": "markdown",
   "metadata": {
    "slideshow": {
     "slide_type": "skip"
    }
   },
   "source": [
    "### Do users tend to use Bike Share for all the trip?"
   ]
  },
  {
   "cell_type": "code",
   "execution_count": 29,
   "metadata": {
    "slideshow": {
     "slide_type": "skip"
    }
   },
   "outputs": [
    {
     "data": {
      "image/png": "[encoded data removed]",
      "text/plain": [
       "<Figure size 504x360 with 1 Axes>"
      ]
     },
     "metadata": {
      "needs_background": "light"
     },
     "output_type": "display_data"
    }
   ],
   "source": [
    "custom_barplot(x = 'bike_share_for_all_trip', vertical_margin =6000,\n",
    "               xlabel='Bike Share for all trip',\n",
    "               ylabel='Number of Members',\n",
    "               title='Bike Share for all trip Barplot')"
   ]
  },
  {
   "cell_type": "code",
   "execution_count": 30,
   "metadata": {
    "slideshow": {
     "slide_type": "skip"
    }
   },
   "outputs": [
    {
     "data": {
      "text/plain": [
       "No     0.900853\n",
       "Yes    0.099147\n",
       "Name: bike_share_for_all_trip, dtype: float64"
      ]
     },
     "execution_count": 30,
     "metadata": {},
     "output_type": "execute_result"
    }
   ],
   "source": [
    "bikeSharing.bike_share_for_all_trip.value_counts(normalize=True)"
   ]
  },
  {
   "cell_type": "markdown",
   "metadata": {
    "slideshow": {
     "slide_type": "skip"
    }
   },
   "source": [
    "> **Observation:** Around 90% of members were using bike share for all the trip where the rest of the members used bike share for all the trip. "
   ]
  },
  {
   "cell_type": "markdown",
   "metadata": {
    "slideshow": {
     "slide_type": "slide"
    }
   },
   "source": [
    "## Bivariate Exploration"
   ]
  },
  {
   "cell_type": "code",
   "execution_count": 31,
   "metadata": {
    "slideshow": {
     "slide_type": "skip"
    }
   },
   "outputs": [
    {
     "data": {
      "text/html": [
       "<div>\n",
       "<style scoped>\n",
       "    .dataframe tbody tr th:only-of-type {\n",
       "        vertical-align: middle;\n",
       "    }\n",
       "\n",
       "    .dataframe tbody tr th {\n",
       "        vertical-align: top;\n",
       "    }\n",
       "\n",
       "    .dataframe thead th {\n",
       "        text-align: right;\n",
       "    }\n",
       "</style>\n",
       "<table border=\"1\" class=\"dataframe\">\n",
       "  <thead>\n",
       "    <tr style=\"text-align: right;\">\n",
       "      <th></th>\n",
       "      <th>duration_sec</th>\n",
       "      <th>start_time</th>\n",
       "      <th>end_time</th>\n",
       "      <th>start_station_id</th>\n",
       "      <th>start_station_name</th>\n",
       "      <th>start_station_latitude</th>\n",
       "      <th>start_station_longitude</th>\n",
       "      <th>end_station_id</th>\n",
       "      <th>end_station_name</th>\n",
       "      <th>end_station_latitude</th>\n",
       "      <th>end_station_longitude</th>\n",
       "      <th>bike_id</th>\n",
       "      <th>user_type</th>\n",
       "      <th>member_birth_year</th>\n",
       "      <th>member_gender</th>\n",
       "      <th>bike_share_for_all_trip</th>\n",
       "      <th>distance</th>\n",
       "      <th>start_hour</th>\n",
       "      <th>end_hour</th>\n",
       "    </tr>\n",
       "  </thead>\n",
       "  <tbody>\n",
       "    <tr>\n",
       "      <th>0</th>\n",
       "      <td>52185</td>\n",
       "      <td>2019-02-28 17:32:10.145</td>\n",
       "      <td>2019-03-01 08:01:55.975</td>\n",
       "      <td>21</td>\n",
       "      <td>Montgomery St BART Station (Market St at 2nd St)</td>\n",
       "      <td>37.789625</td>\n",
       "      <td>-122.400811</td>\n",
       "      <td>13</td>\n",
       "      <td>Commercial St at Montgomery St</td>\n",
       "      <td>37.794231</td>\n",
       "      <td>-122.402923</td>\n",
       "      <td>4902</td>\n",
       "      <td>Customer</td>\n",
       "      <td>1984</td>\n",
       "      <td>Male</td>\n",
       "      <td>No</td>\n",
       "      <td>0.544879</td>\n",
       "      <td>17</td>\n",
       "      <td>8</td>\n",
       "    </tr>\n",
       "    <tr>\n",
       "      <th>2</th>\n",
       "      <td>61854</td>\n",
       "      <td>2019-02-28 12:13:13.218</td>\n",
       "      <td>2019-03-01 05:24:08.146</td>\n",
       "      <td>86</td>\n",
       "      <td>Market St at Dolores St</td>\n",
       "      <td>37.769305</td>\n",
       "      <td>-122.426826</td>\n",
       "      <td>3</td>\n",
       "      <td>Powell St BART Station (Market St at 4th St)</td>\n",
       "      <td>37.786375</td>\n",
       "      <td>-122.404904</td>\n",
       "      <td>5905</td>\n",
       "      <td>Customer</td>\n",
       "      <td>1972</td>\n",
       "      <td>Male</td>\n",
       "      <td>No</td>\n",
       "      <td>2.705394</td>\n",
       "      <td>12</td>\n",
       "      <td>5</td>\n",
       "    </tr>\n",
       "    <tr>\n",
       "      <th>3</th>\n",
       "      <td>36490</td>\n",
       "      <td>2019-02-28 17:54:26.010</td>\n",
       "      <td>2019-03-01 04:02:36.842</td>\n",
       "      <td>375</td>\n",
       "      <td>Grove St at Masonic Ave</td>\n",
       "      <td>37.774836</td>\n",
       "      <td>-122.446546</td>\n",
       "      <td>70</td>\n",
       "      <td>Central Ave at Fell St</td>\n",
       "      <td>37.773311</td>\n",
       "      <td>-122.444293</td>\n",
       "      <td>6638</td>\n",
       "      <td>Subscriber</td>\n",
       "      <td>1989</td>\n",
       "      <td>Other</td>\n",
       "      <td>No</td>\n",
       "      <td>0.260820</td>\n",
       "      <td>17</td>\n",
       "      <td>4</td>\n",
       "    </tr>\n",
       "    <tr>\n",
       "      <th>4</th>\n",
       "      <td>1585</td>\n",
       "      <td>2019-02-28 23:54:18.549</td>\n",
       "      <td>2019-03-01 00:20:44.074</td>\n",
       "      <td>7</td>\n",
       "      <td>Frank H Ogawa Plaza</td>\n",
       "      <td>37.804562</td>\n",
       "      <td>-122.271738</td>\n",
       "      <td>222</td>\n",
       "      <td>10th Ave at E 15th St</td>\n",
       "      <td>37.792714</td>\n",
       "      <td>-122.248780</td>\n",
       "      <td>4898</td>\n",
       "      <td>Subscriber</td>\n",
       "      <td>1974</td>\n",
       "      <td>Male</td>\n",
       "      <td>Yes</td>\n",
       "      <td>2.410058</td>\n",
       "      <td>23</td>\n",
       "      <td>0</td>\n",
       "    </tr>\n",
       "    <tr>\n",
       "      <th>5</th>\n",
       "      <td>1793</td>\n",
       "      <td>2019-02-28 23:49:58.632</td>\n",
       "      <td>2019-03-01 00:19:51.760</td>\n",
       "      <td>93</td>\n",
       "      <td>4th St at Mission Bay Blvd S</td>\n",
       "      <td>37.770407</td>\n",
       "      <td>-122.391198</td>\n",
       "      <td>323</td>\n",
       "      <td>Broadway at Kearny</td>\n",
       "      <td>37.798014</td>\n",
       "      <td>-122.405950</td>\n",
       "      <td>5200</td>\n",
       "      <td>Subscriber</td>\n",
       "      <td>1959</td>\n",
       "      <td>Male</td>\n",
       "      <td>No</td>\n",
       "      <td>3.333249</td>\n",
       "      <td>23</td>\n",
       "      <td>0</td>\n",
       "    </tr>\n",
       "  </tbody>\n",
       "</table>\n",
       "</div>"
      ],
      "text/plain": [
       "   duration_sec              start_time                end_time  \\\n",
       "0         52185 2019-02-28 17:32:10.145 2019-03-01 08:01:55.975   \n",
       "2         61854 2019-02-28 12:13:13.218 2019-03-01 05:24:08.146   \n",
       "3         36490 2019-02-28 17:54:26.010 2019-03-01 04:02:36.842   \n",
       "4          1585 2019-02-28 23:54:18.549 2019-03-01 00:20:44.074   \n",
       "5          1793 2019-02-28 23:49:58.632 2019-03-01 00:19:51.760   \n",
       "\n",
       "   start_station_id                                start_station_name  \\\n",
       "0                21  Montgomery St BART Station (Market St at 2nd St)   \n",
       "2                86                           Market St at Dolores St   \n",
       "3               375                           Grove St at Masonic Ave   \n",
       "4                 7                               Frank H Ogawa Plaza   \n",
       "5                93                      4th St at Mission Bay Blvd S   \n",
       "\n",
       "   start_station_latitude  start_station_longitude  end_station_id  \\\n",
       "0               37.789625              -122.400811              13   \n",
       "2               37.769305              -122.426826               3   \n",
       "3               37.774836              -122.446546              70   \n",
       "4               37.804562              -122.271738             222   \n",
       "5               37.770407              -122.391198             323   \n",
       "\n",
       "                               end_station_name  end_station_latitude  \\\n",
       "0                Commercial St at Montgomery St             37.794231   \n",
       "2  Powell St BART Station (Market St at 4th St)             37.786375   \n",
       "3                        Central Ave at Fell St             37.773311   \n",
       "4                         10th Ave at E 15th St             37.792714   \n",
       "5                            Broadway at Kearny             37.798014   \n",
       "\n",
       "   end_station_longitude  bike_id   user_type  member_birth_year  \\\n",
       "0            -122.402923     4902    Customer               1984   \n",
       "2            -122.404904     5905    Customer               1972   \n",
       "3            -122.444293     6638  Subscriber               1989   \n",
       "4            -122.248780     4898  Subscriber               1974   \n",
       "5            -122.405950     5200  Subscriber               1959   \n",
       "\n",
       "  member_gender bike_share_for_all_trip  distance  start_hour  end_hour  \n",
       "0          Male                      No  0.544879          17         8  \n",
       "2          Male                      No  2.705394          12         5  \n",
       "3         Other                      No  0.260820          17         4  \n",
       "4          Male                     Yes  2.410058          23         0  \n",
       "5          Male                      No  3.333249          23         0  "
      ]
     },
     "execution_count": 31,
     "metadata": {},
     "output_type": "execute_result"
    }
   ],
   "source": [
    "bikeSharing.head()"
   ]
  },
  {
   "cell_type": "markdown",
   "metadata": {
    "slideshow": {
     "slide_type": "skip"
    }
   },
   "source": [
    "### What is the relation between Duration and Distance of the trips?"
   ]
  },
  {
   "cell_type": "code",
   "execution_count": 32,
   "metadata": {
    "slideshow": {
     "slide_type": "skip"
    }
   },
   "outputs": [],
   "source": [
    "def custum_scatter(x, y, alpha =0.2, x_jitter=0.04, xlabel=None, ylabel=None, title=None):\n",
    "    '''Plot scatter plot for two variables with the option to change alpha, x_jitter and set labels and title'''\n",
    "    sb.regplot(data=bikeSharing, x =x, y= y ,x_jitter = x_jitter,scatter_kws={'alpha':alpha},fit_reg=False)\n",
    "    plt.xlabel(xlabel)\n",
    "    plt.ylabel(ylabel)\n",
    "    plt.title(title)\n"
   ]
  },
  {
   "cell_type": "code",
   "execution_count": 33,
   "metadata": {
    "slideshow": {
     "slide_type": "skip"
    }
   },
   "outputs": [
    {
     "data": {
      "image/png": "[encoded data removed]",
      "text/plain": [
       "<Figure size 432x288 with 1 Axes>"
      ]
     },
     "metadata": {
      "needs_background": "light"
     },
     "output_type": "display_data"
    }
   ],
   "source": [
    "custum_scatter(x='duration_sec', y='distance',\n",
    "                   xlabel='Duration (sec)',\n",
    "                   ylabel='Distance (km)',\n",
    "                   title='Duration  vs. Distance')"
   ]
  },
  {
   "cell_type": "markdown",
   "metadata": {
    "slideshow": {
     "slide_type": "skip"
    }
   },
   "source": [
    "> **Observation:** Majority of trips duration is less than 20000 sec and less 10 km distance (between the start and end station) we can clearly see some trips duration that can extend to more than 80000 sec and there is only 1 trip that had around 70 km distance.\n",
    "<br>\n",
    "From the Duration vs. Distance, we can clearly see that almost all members usually end their trip within a 10 km circle radius from the start point."
   ]
  },
  {
   "cell_type": "markdown",
   "metadata": {
    "slideshow": {
     "slide_type": "slide"
    }
   },
   "source": [
    "### What is the relation between End Hour and Start Hour of the trips? "
   ]
  },
  {
   "cell_type": "code",
   "execution_count": 34,
   "metadata": {
    "slideshow": {
     "slide_type": "subslide"
    }
   },
   "outputs": [
    {
     "data": {
      "image/png": "[encoded data removed]",
      "text/plain": [
       "<Figure size 432x288 with 1 Axes>"
      ]
     },
     "metadata": {
      "needs_background": "light"
     },
     "output_type": "display_data"
    }
   ],
   "source": [
    "# sb.regplot(data=bikeSharing, y ='end_hour', x= 'start_hour',x_jitter = 0.04,scatter_kws={'alpha':0.2})\n",
    "custum_scatter(x='start_hour', y='end_hour',\n",
    "                   xlabel='Start Hour',\n",
    "                   ylabel='End Hour',\n",
    "                   title='Start Hour  vs. End Hour')"
   ]
  },
  {
   "cell_type": "markdown",
   "metadata": {
    "slideshow": {
     "slide_type": "subslide"
    }
   },
   "source": [
    "> **Observation:** Since we already knew start hour and end hour are correlated the straight diagonal line shows that clearly which also means that the members return their bike at the same hour they took their bike at. As we go up the diagonal line the members return their bike in the next hours and vice versa.\n",
    "We can clearly see that members usually tend to return their bike just within the same hour or within the next 3 to 4 hours."
   ]
  },
  {
   "cell_type": "markdown",
   "metadata": {
    "slideshow": {
     "slide_type": "slide"
    }
   },
   "source": [
    "### What is the year of birth for the members who had a long trip duration?"
   ]
  },
  {
   "cell_type": "code",
   "execution_count": 35,
   "metadata": {
    "slideshow": {
     "slide_type": "subslide"
    }
   },
   "outputs": [
    {
     "data": {
      "image/png": "[encoded data removed]",
      "text/plain": [
       "<Figure size 432x288 with 2 Axes>"
      ]
     },
     "metadata": {
      "needs_background": "light"
     },
     "output_type": "display_data"
    }
   ],
   "source": [
    "bins_x = np.arange(bikeSharing.member_birth_year.min(), bikeSharing.member_birth_year.max()+2, 2)\n",
    "bins_y = np.arange(0, bikeSharing.duration_sec.max()+5000, 5000)\n",
    "plt.hist2d(data = bikeSharing, y = 'duration_sec', x = 'member_birth_year',\n",
    "           cmin=0.5, cmap='viridis_r',bins= [bins_x, bins_y])\n",
    "\n",
    "plt.xlabel('Member Year of Birth')\n",
    "plt.ylabel('Duration (sec)')\n",
    "plt.title('Member Year of Birth vs. Duration')\n",
    "# plt.colorbar(label = 'Number of Members')\n",
    "plt.colorbar().ax.set_ylabel('Number of Members', rotation=90,labelpad=15);\n"
   ]
  },
  {
   "cell_type": "markdown",
   "metadata": {
    "slideshow": {
     "slide_type": "subslide"
    }
   },
   "source": [
    "> **Observation:** Since we already know that most of the members were born in [1980, 2000] this heatmap clearly insures that also the heat map shows that majority of members were born in [1985, 1995] specifically.\n",
    "<br>\n",
    "Since we are interested in know the effect of year of birth on the trip duration we can clearly see that members who were born in [1950, 2000] can do longer trips (more than 10000 sec)"
   ]
  },
  {
   "cell_type": "markdown",
   "metadata": {
    "slideshow": {
     "slide_type": "skip"
    }
   },
   "source": [
    "### Does the gender of the member is related to longer trips?"
   ]
  },
  {
   "cell_type": "code",
   "execution_count": 36,
   "metadata": {
    "slideshow": {
     "slide_type": "skip"
    }
   },
   "outputs": [],
   "source": [
    "def custom_barplot2d(x, y,hue=None, xlabel=None, ylabel=None, title=None):\n",
    "    '''2D Barplot that takes two variables in addition to third variable as a hue with the option to set labels and title'''\n",
    "    sb.barplot(data=bikeSharing, x=x, y=y,hue=hue)\n",
    "    plt.xlabel(xlabel)\n",
    "    plt.ylabel(ylabel)\n",
    "    plt.title(title)\n"
   ]
  },
  {
   "cell_type": "code",
   "execution_count": 37,
   "metadata": {
    "slideshow": {
     "slide_type": "skip"
    }
   },
   "outputs": [
    {
     "data": {
      "image/png": "[encoded data removed]",
      "text/plain": [
       "<Figure size 432x288 with 1 Axes>"
      ]
     },
     "metadata": {
      "needs_background": "light"
     },
     "output_type": "display_data"
    }
   ],
   "source": [
    "custom_barplot2d(y='duration_sec', x='member_gender',\n",
    "                 xlabel='Member Gender',\n",
    "                 ylabel='Duration (Sec)',\n",
    "                 title='Member Gender vs. Duration')\n"
   ]
  },
  {
   "cell_type": "markdown",
   "metadata": {
    "slideshow": {
     "slide_type": "skip"
    }
   },
   "source": [
    "> **Observation:** Although males were the majority of members, they have the shortest trips duration when comparing to females as they represent only 10 of the members and also when comparing to others as they are about 2% of the total members.\n",
    "<br>\n",
    "This interesting finding would require further exploration to see if user_type and bike_share_for_all_trip would affect the trip duration besides member gender."
   ]
  },
  {
   "cell_type": "markdown",
   "metadata": {
    "slideshow": {
     "slide_type": "slide"
    }
   },
   "source": [
    "## Multivariate Exploration"
   ]
  },
  {
   "cell_type": "markdown",
   "metadata": {
    "slideshow": {
     "slide_type": "skip"
    }
   },
   "source": [
    "### Correlation Matrix\n",
    "Before digging into Multivariate exploration we need to check correlated variables first."
   ]
  },
  {
   "cell_type": "code",
   "execution_count": 38,
   "metadata": {
    "slideshow": {
     "slide_type": "skip"
    }
   },
   "outputs": [
    {
     "data": {
      "image/png": "[encoded data removed]",
      "text/plain": [
       "<Figure size 432x288 with 2 Axes>"
      ]
     },
     "metadata": {
      "needs_background": "light"
     },
     "output_type": "display_data"
    }
   ],
   "source": [
    "sb.heatmap(bikeSharing.corr(), annot = True, fmt = '.2f', cmap = 'magma_r', center = 0);"
   ]
  },
  {
   "cell_type": "markdown",
   "metadata": {
    "slideshow": {
     "slide_type": "skip"
    }
   },
   "source": [
    "> **Observation:** From the correlation matrix, I found that start hour and end hour have had the highest correlation coefficient. which is not surprising so far since we knew that each trip takes around 10 min on average so the start hour will usually be the end hour and since we see what is the relationship between them look like using scatterplot in the bivariant exploration."
   ]
  },
  {
   "cell_type": "markdown",
   "metadata": {
    "slideshow": {
     "slide_type": "slide"
    }
   },
   "source": [
    "### Does the gender of the member is related to longer trips for different User Types?"
   ]
  },
  {
   "cell_type": "code",
   "execution_count": 39,
   "metadata": {
    "slideshow": {
     "slide_type": "subslide"
    }
   },
   "outputs": [
    {
     "data": {
      "image/png": "[encoded data removed]",
      "text/plain": [
       "<Figure size 432x288 with 1 Axes>"
      ]
     },
     "metadata": {
      "needs_background": "light"
     },
     "output_type": "display_data"
    }
   ],
   "source": [
    "# sb.barplot(data=bikeSharing, y ='duration_sec', x= 'user_type')\n",
    "custom_barplot2d(y='duration_sec', x='member_gender',hue='user_type',\n",
    "                 xlabel='Member Gender',\n",
    "                 ylabel='Duration (Sec)',\n",
    "                 title='Member Gender vs. Duration for Users Type')\n",
    "plt.legend(title = 'User Type');"
   ]
  },
  {
   "cell_type": "markdown",
   "metadata": {
    "slideshow": {
     "slide_type": "subslide"
    }
   },
   "source": [
    "> **Observation:** We already know that female member tends to have longer trips than male members but what is interesting in the above barplot is despite the gender of the member customers have longer trips than normal subscribers which is unexpected since customers only use the bike service for only 24 hours or 3 days while subscribers have an annual subscription!"
   ]
  },
  {
   "cell_type": "markdown",
   "metadata": {
    "slideshow": {
     "slide_type": "slide"
    }
   },
   "source": [
    "### Does the gender of the member is related to longer trips for the members that use Bike Share for all the trip?"
   ]
  },
  {
   "cell_type": "code",
   "execution_count": 40,
   "metadata": {
    "slideshow": {
     "slide_type": "subslide"
    }
   },
   "outputs": [
    {
     "data": {
      "image/png": "[encoded data removed]",
      "text/plain": [
       "<Figure size 432x288 with 1 Axes>"
      ]
     },
     "metadata": {
      "needs_background": "light"
     },
     "output_type": "display_data"
    }
   ],
   "source": [
    "# sb.barplot(data=bikeSharing, y ='duration_sec', x= 'bike_share_for_all_trip')\n",
    "custom_barplot2d(y='duration_sec', x='member_gender',hue='bike_share_for_all_trip',\n",
    "                 xlabel='Member Gender',\n",
    "                 ylabel='Duration (Sec)',\n",
    "                 title='Member Gender vs. Duration for Bike Share for all the trip')\n",
    "plt.legend(title = 'Bike Share for all the trip');"
   ]
  },
  {
   "cell_type": "markdown",
   "metadata": {
    "slideshow": {
     "slide_type": "subslide"
    }
   },
   "source": [
    "> Male and female members who don't use the bike share for all the trips have slightly longer trips than those who do."
   ]
  },
  {
   "cell_type": "markdown",
   "metadata": {
    "slideshow": {
     "slide_type": "slide"
    }
   },
   "source": [
    "### What is the relation between the Duration of the trip and the Member Year of Birth for each gender and user type?"
   ]
  },
  {
   "cell_type": "code",
   "execution_count": 41,
   "metadata": {
    "scrolled": true,
    "slideshow": {
     "slide_type": "subslide"
    }
   },
   "outputs": [
    {
     "data": {
      "image/png": "[encoded data removed]",
      "text/plain": [
       "<Figure size 1296x864 with 7 Axes>"
      ]
     },
     "metadata": {
      "needs_background": "light"
     },
     "output_type": "display_data"
    }
   ],
   "source": [
    "g = sb.FacetGrid(data=bikeSharing, col='member_gender',row='user_type',height= 6, margin_titles=True)\n",
    "g = g.map(plt.hist2d, 'duration_sec','member_birth_year',cmin=0.5,cmap = 'magma_r')\n",
    "\n",
    "g.fig.subplots_adjust(hspace=0.1,wspace= 0.1,top = 0.9)\n",
    "g.set_axis_labels('Duration (Sec)', 'Member Year of Birth')\n",
    "g.fig.suptitle('Relation between the Duration of the trip and the Member Year of Birth for each gender and user type',fontsize=16)\n",
    "plt.colorbar().ax.set_ylabel('Number of Members', rotation=270,labelpad=15);"
   ]
  },
  {
   "cell_type": "markdown",
   "metadata": {
    "slideshow": {
     "slide_type": "subslide"
    }
   },
   "source": [
    "> **Observation:** To link our findings so far, it's safe to say that the number of customer female members who were born in [1980, 2020] is more than of those who were subscribed for the same interval, and it's the opposite when it comes to the male members. so to wrap our analysis we can say that customer female members and subscribe male who were born in [1980, 2020] are more likely to have longer trips."
   ]
  },
  {
   "cell_type": "code",
   "execution_count": null,
   "metadata": {
    "slideshow": {
     "slide_type": "skip"
    }
   },
   "outputs": [],
   "source": []
  }
 ],
 "metadata": {
  "celltoolbar": "Slideshow",
  "kernelspec": {
   "display_name": "Python 3",
   "language": "python",
   "name": "python3"
  },
  "language_info": {
   "codemirror_mode": {
    "name": "ipython",
    "version": 3
   },
   "file_extension": ".py",
   "mimetype": "text/x-python",
   "name": "python",
   "nbconvert_exporter": "python",
   "pygments_lexer": "ipython3",
   "version": "3.8.3"
  }
 },
 "nbformat": 4,
 "nbformat_minor": 2
}
